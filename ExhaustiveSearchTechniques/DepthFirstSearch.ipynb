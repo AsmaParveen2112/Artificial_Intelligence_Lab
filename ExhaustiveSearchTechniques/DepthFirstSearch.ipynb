{
 "cells": [
  {
   "cell_type": "markdown",
   "id": "58aec4a8",
   "metadata": {},
   "source": [
    "# Implement Depth First Search Technique"
   ]
  },
  {
   "cell_type": "code",
   "execution_count": 2,
   "id": "7ad5dee4",
   "metadata": {},
   "outputs": [
    {
     "name": "stdout",
     "output_type": "stream",
     "text": [
      "The order of traversal using DFS is: \n",
      "\n",
      "0 1 2 3 4 "
     ]
    }
   ],
   "source": [
    "\n",
    "# Finding the order of the Graph Traversal using DFS\n",
    "\n",
    "def DFS(graph, start):\n",
    "    \n",
    "    explored = []\n",
    "    frontier = []\n",
    "    \n",
    "    explored.append(start)\n",
    "    frontier.append(start)\n",
    "    \n",
    "    while frontier:\n",
    "        node = frontier.pop(0)\n",
    "        print(node, end = \" \")\n",
    "        \n",
    "        \n",
    "        for neighbour in graph[node]:\n",
    "            if neighbour not in explored:\n",
    "                explored.append(neighbour)\n",
    "                frontier.append(neighbour)\n",
    "                \n",
    "if __name__ == '__main__':\n",
    "    \n",
    "    graph = {0 :[1,2], 1:[3], 2:[3,4], 3:[4], 4:[0]}\n",
    "    \n",
    "    print(\"The order of traversal using DFS is: \\n\")\n",
    "    \n",
    "    DFS(graph,0)"
   ]
  },
  {
   "cell_type": "code",
   "execution_count": 3,
   "id": "8e3f8c94",
   "metadata": {},
   "outputs": [
    {
     "name": "stdout",
     "output_type": "stream",
     "text": [
      "0 2 4 3 Goal Node Found !\n"
     ]
    }
   ],
   "source": [
    "def DFS(graph, start, goal):\n",
    "    \n",
    "    explored = [] # empty list for visited nodes\n",
    "    frontier = [] # empty list for nodes that are currently being explored\n",
    "    \n",
    "    # initializing with start node\n",
    "    explored.append(start)\n",
    "    frontier.append(start)\n",
    "    \n",
    "    while frontier:\n",
    "        node = frontier.pop()\n",
    "        print(node, end=\" \")\n",
    "        \n",
    "        if node == goal:\n",
    "            print(\"Goal Node Found !\")\n",
    "            break\n",
    "        \n",
    "        # If not look for neighbouring nodes\n",
    "        for neighbour in graph[node]:\n",
    "            if neighbour not in explored:\n",
    "                explored.append(neighbour)\n",
    "                frontier.append(neighbour)\n",
    "                \n",
    "\n",
    "if __name__ == '__main__':\n",
    "    \n",
    "    graph = {0 :[1,2], 1:[3], 2:[3,4], 3:[4], 4:[0]}\n",
    "    \n",
    "    DFS(graph,0,3)\n",
    "    \n",
    "    "
   ]
  }
 ],
 "metadata": {
  "kernelspec": {
   "display_name": "Python 3 (ipykernel)",
   "language": "python",
   "name": "python3"
  },
  "language_info": {
   "codemirror_mode": {
    "name": "ipython",
    "version": 3
   },
   "file_extension": ".py",
   "mimetype": "text/x-python",
   "name": "python",
   "nbconvert_exporter": "python",
   "pygments_lexer": "ipython3",
   "version": "3.11.3"
  }
 },
 "nbformat": 4,
 "nbformat_minor": 5
}
