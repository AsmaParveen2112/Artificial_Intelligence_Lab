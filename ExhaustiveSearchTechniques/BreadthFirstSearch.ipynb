{
 "cells": [
  {
   "cell_type": "markdown",
   "id": "3135010e",
   "metadata": {},
   "source": [
    "# Implement Breadth First Search Technique\n"
   ]
  },
  {
   "cell_type": "code",
   "execution_count": 4,
   "id": "7cc28a20",
   "metadata": {},
   "outputs": [
    {
     "name": "stdout",
     "output_type": "stream",
     "text": [
      "The Order of traversal using BFS is: \n",
      "\n",
      "0 1 2 3 4 "
     ]
    }
   ],
   "source": [
    "\n",
    "\n",
    "def BFS(graph, start):\n",
    "    \n",
    "    explored = []\n",
    "    frontier = []\n",
    "    \n",
    "    explored.append(start)\n",
    "    frontier.append(start)\n",
    "    \n",
    "    while frontier:\n",
    "        node = frontier.pop(0)\n",
    "        print(node, end=\" \")\n",
    "            \n",
    "        for neighbour in graph[node]:\n",
    "            if neighbour not in explored:\n",
    "                explored.append(neighbour)\n",
    "                frontier.append(neighbour)\n",
    "                \n",
    "if __name__ == '__main__':\n",
    "    graph = {0 :[1,2], 1:[3], 2:[3,4], 3:[4], 4:[0]}\n",
    "    \n",
    "    print(\"The Order of traversal using BFS is: \\n\")\n",
    "    \n",
    "    BFS(graph, 0)\n",
    "    "
   ]
  },
  {
   "cell_type": "code",
   "execution_count": 2,
   "id": "4c1913fe",
   "metadata": {},
   "outputs": [
    {
     "name": "stdout",
     "output_type": "stream",
     "text": [
      "0 1 2 3 Goal Node is Found! \n"
     ]
    }
   ],
   "source": [
    "\n",
    "def BFS(graph, start, goal):\n",
    "    \n",
    "    explored = []\n",
    "    frontier = []\n",
    "    \n",
    "    explored.append(start)\n",
    "    frontier.append(start)\n",
    "    \n",
    "    while frontier:\n",
    "        node = frontier.pop(0)\n",
    "        print(node, end=\" \")\n",
    "        \n",
    "        if node == goal:\n",
    "            print(\"Goal Node is Found! \")\n",
    "            break\n",
    "            \n",
    "        for neighbour in graph[node]:\n",
    "            if neighbour not in explored:\n",
    "                explored.append(neighbour)\n",
    "                frontier.append(neighbour)\n",
    "                \n",
    "if __name__ == '__main__':\n",
    "    graph = {0 :[1,2], 1:[3], 2:[3,4], 3:[4], 4:[0]}\n",
    "    \n",
    "    BFS(graph, 0, 3)\n",
    "    "
   ]
  },
  {
   "cell_type": "code",
   "execution_count": null,
   "id": "4653c967",
   "metadata": {},
   "outputs": [],
   "source": []
  }
 ],
 "metadata": {
  "kernelspec": {
   "display_name": "Python 3 (ipykernel)",
   "language": "python",
   "name": "python3"
  },
  "language_info": {
   "codemirror_mode": {
    "name": "ipython",
    "version": 3
   },
   "file_extension": ".py",
   "mimetype": "text/x-python",
   "name": "python",
   "nbconvert_exporter": "python",
   "pygments_lexer": "ipython3",
   "version": "3.11.3"
  }
 },
 "nbformat": 4,
 "nbformat_minor": 5
}
